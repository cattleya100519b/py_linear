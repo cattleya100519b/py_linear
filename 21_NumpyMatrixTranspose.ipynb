{
 "cells": [
  {
   "cell_type": "code",
   "execution_count": 9,
   "metadata": {},
   "outputs": [],
   "source": [
    "import numpy as np\n",
    "from myfuncs import print_matrix as printm"
   ]
  },
  {
   "cell_type": "markdown",
   "metadata": {},
   "source": [
    "$$\n",
    "\\boldsymbol{A} =\n",
    "    \\begin{bmatrix}\n",
    "    1 & 3 & -5 \\\\\n",
    "    -4 & 6 & 2 \\\\\n",
    "    \\end{bmatrix} \\quad\n",
    "\\boldsymbol{B} =\n",
    "    \\begin{bmatrix}\n",
    "    2 & -3 \\\\\n",
    "    -1 & 4 \\\\\n",
    "    5 & 6 \\\\\n",
    "    \\end{bmatrix}\n",
    "$$"
   ]
  },
  {
   "cell_type": "code",
   "execution_count": 10,
   "metadata": {},
   "outputs": [
    {
     "data": {
      "text/latex": [
       "$\\displaystyle A=\\left[\\begin{matrix}1 & 3 & -5\\\\-4 & 6 & 2\\end{matrix}\\right]$"
      ],
      "text/plain": [
       "<IPython.core.display.Math object>"
      ]
     },
     "metadata": {},
     "output_type": "display_data"
    },
    {
     "data": {
      "text/latex": [
       "$\\displaystyle B=\\left[\\begin{matrix}2 & -3\\\\-1 & 4\\\\5 & 6\\end{matrix}\\right]$"
      ],
      "text/plain": [
       "<IPython.core.display.Math object>"
      ]
     },
     "metadata": {},
     "output_type": "display_data"
    }
   ],
   "source": [
    "printm('A', A := np.array([[1,3,-5], [-4,6,2]]))\n",
    "printm('B', B := np.array([[2,-3], [-1, 4], [5,6]]))"
   ]
  },
  {
   "cell_type": "markdown",
   "metadata": {},
   "source": [
    "$$\n",
    "C=AB\n",
    "$$"
   ]
  },
  {
   "cell_type": "markdown",
   "metadata": {},
   "source": [
    "$$\n",
    "{}^t\\!C = {}^t\\!(AB) = {}^t\\!B{}^t\\!A\n",
    "$$"
   ]
  },
  {
   "cell_type": "code",
   "execution_count": 17,
   "metadata": {},
   "outputs": [
    {
     "data": {
      "text/latex": [
       "$\\displaystyle ^t\\!(AB)=\\left[\\begin{matrix}-26 & -4\\\\-21 & 48\\end{matrix}\\right]$"
      ],
      "text/plain": [
       "<IPython.core.display.Math object>"
      ]
     },
     "metadata": {},
     "output_type": "display_data"
    },
    {
     "data": {
      "text/latex": [
       "$\\displaystyle {}^t\\!B{}^t\\!A=\\left[\\begin{matrix}-26 & -4\\\\-21 & 48\\end{matrix}\\right]$"
      ],
      "text/plain": [
       "<IPython.core.display.Math object>"
      ]
     },
     "metadata": {},
     "output_type": "display_data"
    }
   ],
   "source": [
    "printm('^t\\\\!(AB)', (A@B).transpose())\n",
    "printm('{}^t\\\\!B{}^t\\\\!A', B.T @ A.T)"
   ]
  }
 ],
 "metadata": {
  "kernelspec": {
   "display_name": "venv",
   "language": "python",
   "name": "venv"
  },
  "language_info": {
   "codemirror_mode": {
    "name": "ipython",
    "version": 3
   },
   "file_extension": ".py",
   "mimetype": "text/x-python",
   "name": "python",
   "nbconvert_exporter": "python",
   "pygments_lexer": "ipython3",
   "version": "3.12.3"
  }
 },
 "nbformat": 4,
 "nbformat_minor": 2
}
